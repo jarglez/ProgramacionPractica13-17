{
 "cells": [
  {
   "cell_type": "markdown",
   "metadata": {},
   "source": [
    "# Práctica 13-17: \n",
    "\n",
    "Elaboró: Carlos Alejandro Jarero Gonzalez <al255813@alumnos.uacj.mx>\n",
    "\n",
    "Matrícula: 255813\n",
    "\n",
    "El presente Notebook fue relizado en equipo local con Kernel Python 3.11.8 en VS Code.\n",
    "\n",
    "## Objetivos\n",
    "\n",
    "El objetivo de esta actividad es que los estudiantes practiquen los temas vistos de carga de datos, normalización de nombres de columnas, separación y unión de columnas, errores en los tipos de datos. Todo es en un conjunto de datos utilizando Pandas en Python.\n",
    "\n",
    "\n",
    "## Instrucciones de uso\n",
    "\n",
    "Este notebook puede extraer datos del archivo ```miaad-nyc-r-s.csv```, para analizar la información presente.\n",
    "\n",
    "Si quieres cambiar el archivo, o la dirección del mismo, solo ve a la sección de parameters y cambia el ```input_path```.\n",
    "\n",
    "### Si usas Google Colab\n",
    "\n",
    "1. Ve a la sección de Files y asegurate de tener habilitado el acceso a tu Google Drive, de lo contrario hablitalo y dale los permisos correspondientes.\n",
    "2. Si ya has realizado el paso anterior verás en tu notebook la siguiente instrucción de python para montar un volumen en el caso de linux ```/content/drive```, esto puede cambiar en diferentes sistemas operativos.\n",
    "![Drive Mounting](./assets/DriveMount.png)\n",
    "3. Asegurate de ejecutar la sección previa, dependidendo si ya has dado o no los permisos en este paso puede que de nuevo te solicite darle permiso. \n",
    "4. Ahora verás um directorio llamado drive donde encontarás tu Drive, ahí sube el archvio a procesar.\n",
    "5. Copia el path absoluto de archivo de ```miaad-nyc-r-s.csv``` en ```input_path```.\n",
    "\n",
    "## Instrucciones\n",
    "\n",
    "1. Descarga el archivo CSV, ```miaad-nyc-r-s.csv```, proporcionado en esta tarea. También lo puedes encontrar en recursos.\n",
    "2. Crea un notebook en colab y guarda el archivo csv descargado en tu drive.\n",
    "3. Agrega secciones en el colab poniendo como título el nombre de la práctica.\n",
    "\n",
    "\n"
   ]
  },
  {
   "cell_type": "code",
   "execution_count": 101,
   "metadata": {},
   "outputs": [],
   "source": [
    "import pandas as pd\n",
    "# Paramteters\n",
    "input_path = \".data/miaad-nyc-r-s.csv\""
   ]
  },
  {
   "cell_type": "markdown",
   "metadata": {},
   "source": [
    "### Práctica 13: Carga de Datos\n",
    "\n",
    "Al final del archivo contiene una línea que dice \"Esta es una línea que no deberías cargar\". Esta línea es irrelevante por lo tanto al cargar el CSV a un dataframe se debería de ignorar.\n",
    "\n",
    "- Carga el archivo a un dataframe usando el código necesario para omitir la última fila.\n",
    "- Usa ```df.tail(3)``` para demostrar que no has cargado la última línea.\n",
    "- Imprime la cantidad de filas y columnas del dataframe."
   ]
  },
  {
   "cell_type": "code",
   "execution_count": 102,
   "metadata": {},
   "outputs": [
    {
     "name": "stderr",
     "output_type": "stream",
     "text": [
      "/tmp/ipykernel_611247/950696470.py:1: DtypeWarning: Columns (0) have mixed types. Specify dtype option on import or set low_memory=False.\n",
      "  df_original = pd.read_csv(input_path)\n"
     ]
    },
    {
     "data": {
      "text/html": [
       "<div>\n",
       "<style scoped>\n",
       "    .dataframe tbody tr th:only-of-type {\n",
       "        vertical-align: middle;\n",
       "    }\n",
       "\n",
       "    .dataframe tbody tr th {\n",
       "        vertical-align: top;\n",
       "    }\n",
       "\n",
       "    .dataframe thead th {\n",
       "        text-align: right;\n",
       "    }\n",
       "</style>\n",
       "<table border=\"1\" class=\"dataframe\">\n",
       "  <thead>\n",
       "    <tr style=\"text-align: right;\">\n",
       "      <th></th>\n",
       "      <th>Unnamed: 0</th>\n",
       "      <th>BOROUGH</th>\n",
       "      <th>NEIGHBORHOOD</th>\n",
       "      <th>BUILDING CLASS CATEGORY</th>\n",
       "      <th>TAX CLASS AT PRESENT</th>\n",
       "      <th>BLOCK</th>\n",
       "      <th>LOT</th>\n",
       "      <th>EASE-MENT</th>\n",
       "      <th>BUILDING CLASS AT PRESENT</th>\n",
       "      <th>ADDRESS</th>\n",
       "      <th>...</th>\n",
       "      <th>RESIDENTIAL UNITS</th>\n",
       "      <th>COMMERCIAL UNITS</th>\n",
       "      <th>TOTAL UNITS</th>\n",
       "      <th>LAND SQUARE FEET</th>\n",
       "      <th>GROSS SQUARE FEET</th>\n",
       "      <th>YEAR BUILT</th>\n",
       "      <th>TAX CLASS AT TIME OF SALE</th>\n",
       "      <th>BUILDING CLASS AT TIME OF SALE</th>\n",
       "      <th>SALE PRICE</th>\n",
       "      <th>SALE DATE</th>\n",
       "    </tr>\n",
       "  </thead>\n",
       "  <tbody>\n",
       "    <tr>\n",
       "      <th>84545</th>\n",
       "      <td>8411</td>\n",
       "      <td>5.0</td>\n",
       "      <td>WOODROW</td>\n",
       "      <td>02 TWO FAMILY DWELLINGS</td>\n",
       "      <td>1</td>\n",
       "      <td>7351.0</td>\n",
       "      <td>60.0</td>\n",
       "      <td></td>\n",
       "      <td>B2</td>\n",
       "      <td>49 PITNEY AVENUE</td>\n",
       "      <td>...</td>\n",
       "      <td>2.0</td>\n",
       "      <td>0.0</td>\n",
       "      <td>2.0</td>\n",
       "      <td>4000</td>\n",
       "      <td>1496</td>\n",
       "      <td>1925.0</td>\n",
       "      <td>1.0</td>\n",
       "      <td>B2</td>\n",
       "      <td>460000</td>\n",
       "      <td>2017-07-05 00:00:00</td>\n",
       "    </tr>\n",
       "    <tr>\n",
       "      <th>84546</th>\n",
       "      <td>8412</td>\n",
       "      <td>5.0</td>\n",
       "      <td>WOODROW</td>\n",
       "      <td>22 STORE BUILDINGS</td>\n",
       "      <td>4</td>\n",
       "      <td>7100.0</td>\n",
       "      <td>28.0</td>\n",
       "      <td></td>\n",
       "      <td>K6</td>\n",
       "      <td>2730 ARTHUR KILL ROAD</td>\n",
       "      <td>...</td>\n",
       "      <td>0.0</td>\n",
       "      <td>7.0</td>\n",
       "      <td>7.0</td>\n",
       "      <td>208033</td>\n",
       "      <td>64117</td>\n",
       "      <td>2001.0</td>\n",
       "      <td>4.0</td>\n",
       "      <td>K6</td>\n",
       "      <td>11693337</td>\n",
       "      <td>2016-12-21 00:00:00</td>\n",
       "    </tr>\n",
       "    <tr>\n",
       "      <th>84547</th>\n",
       "      <td>8413</td>\n",
       "      <td>5.0</td>\n",
       "      <td>WOODROW</td>\n",
       "      <td>35 INDOOR PUBLIC AND CULTURAL FACILITIES</td>\n",
       "      <td>4</td>\n",
       "      <td>7105.0</td>\n",
       "      <td>679.0</td>\n",
       "      <td></td>\n",
       "      <td>P9</td>\n",
       "      <td>155 CLAY PIT ROAD</td>\n",
       "      <td>...</td>\n",
       "      <td>0.0</td>\n",
       "      <td>1.0</td>\n",
       "      <td>1.0</td>\n",
       "      <td>10796</td>\n",
       "      <td>2400</td>\n",
       "      <td>2006.0</td>\n",
       "      <td>4.0</td>\n",
       "      <td>P9</td>\n",
       "      <td>69300</td>\n",
       "      <td>2016-10-27 00:00:00</td>\n",
       "    </tr>\n",
       "  </tbody>\n",
       "</table>\n",
       "<p>3 rows × 22 columns</p>\n",
       "</div>"
      ],
      "text/plain": [
       "      Unnamed: 0  BOROUGH NEIGHBORHOOD  \\\n",
       "84545       8411      5.0      WOODROW   \n",
       "84546       8412      5.0      WOODROW   \n",
       "84547       8413      5.0      WOODROW   \n",
       "\n",
       "                           BUILDING CLASS CATEGORY TAX CLASS AT PRESENT  \\\n",
       "84545  02 TWO FAMILY DWELLINGS                                        1   \n",
       "84546  22 STORE BUILDINGS                                             4   \n",
       "84547  35 INDOOR PUBLIC AND CULTURAL FACILITIES                       4   \n",
       "\n",
       "        BLOCK    LOT EASE-MENT BUILDING CLASS AT PRESENT  \\\n",
       "84545  7351.0   60.0                                  B2   \n",
       "84546  7100.0   28.0                                  K6   \n",
       "84547  7105.0  679.0                                  P9   \n",
       "\n",
       "                     ADDRESS  ... RESIDENTIAL UNITS  COMMERCIAL UNITS  \\\n",
       "84545       49 PITNEY AVENUE  ...               2.0               0.0   \n",
       "84546  2730 ARTHUR KILL ROAD  ...               0.0               7.0   \n",
       "84547      155 CLAY PIT ROAD  ...               0.0               1.0   \n",
       "\n",
       "       TOTAL UNITS  LAND SQUARE FEET  GROSS SQUARE FEET YEAR BUILT  \\\n",
       "84545          2.0              4000               1496     1925.0   \n",
       "84546          7.0            208033              64117     2001.0   \n",
       "84547          1.0             10796               2400     2006.0   \n",
       "\n",
       "      TAX CLASS AT TIME OF SALE  BUILDING CLASS AT TIME OF SALE  SALE PRICE  \\\n",
       "84545                       1.0                              B2      460000   \n",
       "84546                       4.0                              K6    11693337   \n",
       "84547                       4.0                              P9       69300   \n",
       "\n",
       "                 SALE DATE  \n",
       "84545  2017-07-05 00:00:00  \n",
       "84546  2016-12-21 00:00:00  \n",
       "84547  2016-10-27 00:00:00  \n",
       "\n",
       "[3 rows x 22 columns]"
      ]
     },
     "execution_count": 102,
     "metadata": {},
     "output_type": "execute_result"
    }
   ],
   "source": [
    "df_original = pd.read_csv(input_path)\n",
    "\n",
    "df = df_original[:-1]\n",
    "\n",
    "df.tail(3)"
   ]
  },
  {
   "cell_type": "code",
   "execution_count": 103,
   "metadata": {},
   "outputs": [
    {
     "name": "stdout",
     "output_type": "stream",
     "text": [
      "<class 'pandas.core.frame.DataFrame'>\n",
      "RangeIndex: 84548 entries, 0 to 84547\n",
      "Data columns (total 22 columns):\n",
      " #   Column                          Non-Null Count  Dtype  \n",
      "---  ------                          --------------  -----  \n",
      " 0   Unnamed: 0                      84548 non-null  object \n",
      " 1   BOROUGH                         84548 non-null  float64\n",
      " 2   NEIGHBORHOOD                    84548 non-null  object \n",
      " 3   BUILDING CLASS CATEGORY         84548 non-null  object \n",
      " 4   TAX CLASS AT PRESENT            84548 non-null  object \n",
      " 5   BLOCK                           84548 non-null  float64\n",
      " 6   LOT                             84548 non-null  float64\n",
      " 7   EASE-MENT                       84548 non-null  object \n",
      " 8   BUILDING CLASS AT PRESENT       84548 non-null  object \n",
      " 9   ADDRESS                         84548 non-null  object \n",
      " 10  APARTMENT NUMBER                84548 non-null  object \n",
      " 11  ZIP CODE                        84548 non-null  float64\n",
      " 12  RESIDENTIAL UNITS               84548 non-null  float64\n",
      " 13  COMMERCIAL UNITS                84548 non-null  float64\n",
      " 14  TOTAL UNITS                     84548 non-null  float64\n",
      " 15  LAND SQUARE FEET                84548 non-null  object \n",
      " 16  GROSS SQUARE FEET               84548 non-null  object \n",
      " 17  YEAR BUILT                      84548 non-null  float64\n",
      " 18  TAX CLASS AT TIME OF SALE       84548 non-null  float64\n",
      " 19  BUILDING CLASS AT TIME OF SALE  84548 non-null  object \n",
      " 20  SALE PRICE                      84548 non-null  object \n",
      " 21  SALE DATE                       84548 non-null  object \n",
      "dtypes: float64(9), object(13)\n",
      "memory usage: 14.2+ MB\n"
     ]
    }
   ],
   "source": [
    "df.info()"
   ]
  },
  {
   "cell_type": "markdown",
   "metadata": {},
   "source": [
    "### Práctica 14: Agregar una columna\n",
    "\n",
    "- Imprime los nombres de la columnas del archivo.\n",
    "- Asegúrate que el nombre de la primera columna debería ser INDEX MIIAD. Si esto no es así, entonces agrega dicho nombre a la columna y vuelve a imprimir los nombres para mostrar el cambio realizado."
   ]
  },
  {
   "cell_type": "code",
   "execution_count": 104,
   "metadata": {},
   "outputs": [
    {
     "name": "stdout",
     "output_type": "stream",
     "text": [
      "<class 'pandas.core.frame.DataFrame'>\n",
      "RangeIndex: 84548 entries, 0 to 84547\n",
      "Data columns (total 23 columns):\n",
      " #   Column                          Non-Null Count  Dtype  \n",
      "---  ------                          --------------  -----  \n",
      " 0   INDEX MIIAD                     84548 non-null  object \n",
      " 1   BOROUGH                         84548 non-null  float64\n",
      " 2   NEIGHBORHOOD                    84548 non-null  object \n",
      " 3   BUILDING CLASS CATEGORY         84548 non-null  object \n",
      " 4   TAX CLASS AT PRESENT            84548 non-null  object \n",
      " 5   BLOCK                           84548 non-null  float64\n",
      " 6   LOT                             84548 non-null  float64\n",
      " 7   EASE-MENT                       84548 non-null  object \n",
      " 8   BUILDING CLASS AT PRESENT       84548 non-null  object \n",
      " 9   ADDRESS                         84548 non-null  object \n",
      " 10  APARTMENT NUMBER                84548 non-null  object \n",
      " 11  ZIP CODE                        84548 non-null  float64\n",
      " 12  RESIDENTIAL UNITS               84548 non-null  float64\n",
      " 13  COMMERCIAL UNITS                84548 non-null  float64\n",
      " 14  TOTAL UNITS                     84548 non-null  float64\n",
      " 15  LAND SQUARE FEET                84548 non-null  object \n",
      " 16  GROSS SQUARE FEET               84548 non-null  object \n",
      " 17  YEAR BUILT                      84548 non-null  float64\n",
      " 18  TAX CLASS AT TIME OF SALE       84548 non-null  float64\n",
      " 19  BUILDING CLASS AT TIME OF SALE  84548 non-null  object \n",
      " 20  SALE PRICE                      84548 non-null  object \n",
      " 21  SALE DATE                       84548 non-null  object \n",
      " 22  New Column                      0 non-null      object \n",
      "dtypes: float64(9), object(14)\n",
      "memory usage: 14.8+ MB\n"
     ]
    }
   ],
   "source": [
    "df = df.rename(columns={\"Unnamed: 0\": \"INDEX MIIAD\"})\n",
    "\n",
    "df[\"New Column\"] = None\n",
    "\n",
    "df.info()"
   ]
  },
  {
   "cell_type": "markdown",
   "metadata": {},
   "source": [
    "### Práctica 15: Normalización de los nombres de la columna\n",
    "\n",
    "- Normaliza los nombres de ls columnas, los cuales deberán estar en minúsculas. Asimismo, reemplaza los espacios con guion bajo.\n",
    "- Imprime los nombres de las columnas para demostrar que has realizado la normalización."
   ]
  },
  {
   "cell_type": "code",
   "execution_count": 105,
   "metadata": {},
   "outputs": [
    {
     "name": "stdout",
     "output_type": "stream",
     "text": [
      "<class 'pandas.core.frame.DataFrame'>\n",
      "RangeIndex: 84548 entries, 0 to 84547\n",
      "Data columns (total 23 columns):\n",
      " #   Column                          Non-Null Count  Dtype  \n",
      "---  ------                          --------------  -----  \n",
      " 0   index_miiad                     84548 non-null  object \n",
      " 1   borough                         84548 non-null  float64\n",
      " 2   neighborhood                    84548 non-null  object \n",
      " 3   building_class_category         84548 non-null  object \n",
      " 4   tax_class_at_present            84548 non-null  object \n",
      " 5   block                           84548 non-null  float64\n",
      " 6   lot                             84548 non-null  float64\n",
      " 7   ease-ment                       84548 non-null  object \n",
      " 8   building_class_at_present       84548 non-null  object \n",
      " 9   address                         84548 non-null  object \n",
      " 10  apartment_number                84548 non-null  object \n",
      " 11  zip_code                        84548 non-null  float64\n",
      " 12  residential_units               84548 non-null  float64\n",
      " 13  commercial_units                84548 non-null  float64\n",
      " 14  total_units                     84548 non-null  float64\n",
      " 15  land_square_feet                84548 non-null  object \n",
      " 16  gross_square_feet               84548 non-null  object \n",
      " 17  year_built                      84548 non-null  float64\n",
      " 18  tax_class_at_time_of_sale       84548 non-null  float64\n",
      " 19  building_class_at_time_of_sale  84548 non-null  object \n",
      " 20  sale_price                      84548 non-null  object \n",
      " 21  sale_date                       84548 non-null  object \n",
      " 22  new_column                      0 non-null      object \n",
      "dtypes: float64(9), object(14)\n",
      "memory usage: 14.8+ MB\n"
     ]
    }
   ],
   "source": [
    "df.columns = df.columns.str.lower().str.strip().str.replace(r\"\\s+\",\"_\",regex=True)\n",
    "df.info()"
   ]
  },
  {
   "cell_type": "markdown",
   "metadata": {},
   "source": [
    "### Práctica 16: Errores en los Tipos de Datos\n",
    "\n",
    "- Imprime los tipos de datos de cada columna.\n",
    "- Asegúrate que las columnas de SALE PRICE(sale_price), LAND SQUARE FEET (land_square_feet), GROSS SQUARE FEET (gross_square_feet) sean de tipo flotante. Escribe qué tipo de dato tienen asignado. Si no son correctos, realiza el cambio.\n",
    "- Imprime de nuevo los tipos de datos para demostrar que has arreglado el problema."
   ]
  },
  {
   "cell_type": "code",
   "execution_count": 106,
   "metadata": {},
   "outputs": [
    {
     "data": {
      "text/plain": [
       "index_miiad                        object\n",
       "borough                           float64\n",
       "neighborhood                       object\n",
       "building_class_category            object\n",
       "tax_class_at_present               object\n",
       "block                             float64\n",
       "lot                               float64\n",
       "ease-ment                          object\n",
       "building_class_at_present          object\n",
       "address                            object\n",
       "apartment_number                   object\n",
       "zip_code                          float64\n",
       "residential_units                 float64\n",
       "commercial_units                  float64\n",
       "total_units                       float64\n",
       "land_square_feet                   object\n",
       "gross_square_feet                  object\n",
       "year_built                        float64\n",
       "tax_class_at_time_of_sale         float64\n",
       "building_class_at_time_of_sale     object\n",
       "sale_price                         object\n",
       "sale_date                          object\n",
       "new_column                         object\n",
       "dtype: object"
      ]
     },
     "execution_count": 106,
     "metadata": {},
     "output_type": "execute_result"
    }
   ],
   "source": [
    "df.dtypes"
   ]
  },
  {
   "cell_type": "code",
   "execution_count": 107,
   "metadata": {},
   "outputs": [
    {
     "data": {
      "text/plain": [
       "index_miiad                        object\n",
       "borough                           float64\n",
       "neighborhood                       object\n",
       "building_class_category            object\n",
       "tax_class_at_present               object\n",
       "block                             float64\n",
       "lot                               float64\n",
       "ease-ment                          object\n",
       "building_class_at_present          object\n",
       "address                            object\n",
       "apartment_number                   object\n",
       "zip_code                          float64\n",
       "residential_units                 float64\n",
       "commercial_units                  float64\n",
       "total_units                       float64\n",
       "land_square_feet                  float64\n",
       "gross_square_feet                 float64\n",
       "year_built                        float64\n",
       "tax_class_at_time_of_sale         float64\n",
       "building_class_at_time_of_sale     object\n",
       "sale_price                        float64\n",
       "sale_date                          object\n",
       "new_column                         object\n",
       "dtype: object"
      ]
     },
     "execution_count": 107,
     "metadata": {},
     "output_type": "execute_result"
    }
   ],
   "source": [
    "df[\"sale_price\"] = pd.to_numeric(df[\"sale_price\"], errors=\"coerce\")\n",
    "df[\"land_square_feet\"] = pd.to_numeric(df[\"land_square_feet\"], errors=\"coerce\")\n",
    "df[\"gross_square_feet\"] = pd.to_numeric(df[\"gross_square_feet\"], errors=\"coerce\")\n",
    "\n",
    "df.dtypes"
   ]
  },
  {
   "cell_type": "markdown",
   "metadata": {},
   "source": [
    "### Práctica 17: Genera el diccionario de datos del dataframe preprocesado. Imprime el contenido de dicho diccionario"
   ]
  },
  {
   "cell_type": "code",
   "execution_count": 108,
   "metadata": {},
   "outputs": [
    {
     "name": "stdout",
     "output_type": "stream",
     "text": [
      "Diccionario de datos: index_miiad                        object\n",
      "borough                           float64\n",
      "neighborhood                       object\n",
      "building_class_category            object\n",
      "tax_class_at_present               object\n",
      "block                             float64\n",
      "lot                               float64\n",
      "ease-ment                          object\n",
      "building_class_at_present          object\n",
      "address                            object\n",
      "apartment_number                   object\n",
      "zip_code                          float64\n",
      "residential_units                 float64\n",
      "commercial_units                  float64\n",
      "total_units                       float64\n",
      "land_square_feet                  float64\n",
      "gross_square_feet                 float64\n",
      "year_built                        float64\n",
      "tax_class_at_time_of_sale         float64\n",
      "building_class_at_time_of_sale     object\n",
      "sale_price                        float64\n",
      "sale_date                          object\n",
      "new_column                         object\n",
      "dtype: object\n"
     ]
    }
   ],
   "source": [
    "print(\"Diccionario de datos:\", df.dtypes)"
   ]
  }
 ],
 "metadata": {
  "kernelspec": {
   "display_name": "base",
   "language": "python",
   "name": "python3"
  },
  "language_info": {
   "codemirror_mode": {
    "name": "ipython",
    "version": 3
   },
   "file_extension": ".py",
   "mimetype": "text/x-python",
   "name": "python",
   "nbconvert_exporter": "python",
   "pygments_lexer": "ipython3",
   "version": "3.11.8"
  }
 },
 "nbformat": 4,
 "nbformat_minor": 2
}
